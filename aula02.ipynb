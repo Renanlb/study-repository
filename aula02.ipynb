{
  "nbformat": 4,
  "nbformat_minor": 0,
  "metadata": {
    "colab": {
      "provenance": [],
      "authorship_tag": "ABX9TyO9m4lFg4oCTARyQhTctjOt",
      "include_colab_link": true
    },
    "kernelspec": {
      "name": "python3",
      "display_name": "Python 3"
    },
    "language_info": {
      "name": "python"
    }
  },
  "cells": [
    {
      "cell_type": "markdown",
      "metadata": {
        "id": "view-in-github",
        "colab_type": "text"
      },
      "source": [
        "<a href=\"https://colab.research.google.com/github/Renanlb/study-repository/blob/main/aula02.ipynb\" target=\"_parent\"><img src=\"https://colab.research.google.com/assets/colab-badge.svg\" alt=\"Open In Colab\"/></a>"
      ]
    },
    {
      "cell_type": "code",
      "execution_count": 5,
      "metadata": {
        "colab": {
          "base_uri": "https://localhost:8080/"
        },
        "id": "r671Mq-eV88B",
        "outputId": "875851fa-e4e0-4c1c-b121-88da39a05981"
      },
      "outputs": [
        {
          "output_type": "stream",
          "name": "stdout",
          "text": [
            "True\n"
          ]
        }
      ],
      "source": [
        "#UNINASSAU: TURMA 2\n",
        "#DOCENTE: CLÓVES ROCHA\n",
        "#ESTUDANTE: RENAN LAURINDO BEZERRA\n",
        "#TURMA: CC 6MA\n",
        "\n",
        "#print('Hello World')\n",
        "\n",
        "#c = 'Renan'\n",
        "#print(type(c))\n",
        "\n",
        "x = 10\n",
        "y = 10\n",
        "print(x==y)"
      ]
    }
  ]
}